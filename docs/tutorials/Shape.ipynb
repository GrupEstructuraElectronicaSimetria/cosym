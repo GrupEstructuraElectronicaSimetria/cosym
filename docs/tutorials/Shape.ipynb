{
 "cells": [
  {
   "cell_type": "markdown",
   "metadata": {
    "id": "3syNqZ3-JGlY"
   },
   "source": [
    "# Using *Cosymlib* to analyze the symmetry properties of molecules\n",
    "\n",
    "### Pere Alemany <br> *Institut de Química Teòrica i Computacional de la Universitat de Barcelona (IQTCUB)*\n",
    "\n",
    "                                                                                June 2023\n",
    "                                                           \n",
    "This series of tutorials is meant to introduce you to using *Cosymlib*, a python library for calculating continuous shape and symmetry measures (CShMs and CSMs). In each notebook we will show different ways of using the functions in the library. "
   ]
  },
  {
   "cell_type": "markdown",
   "metadata": {},
   "source": [
    "If you run the notebook in Google Colab, you must first install the *Cosymlib*: "
   ]
  },
  {
   "cell_type": "code",
   "execution_count": null,
   "metadata": {
    "id": "kQIRVcm1IyDx",
    "scrolled": true
   },
   "outputs": [],
   "source": [
    "!pip install cosymlib"
   ]
  },
  {
   "cell_type": "markdown",
   "metadata": {
    "id": "FzfkSXmv4FGJ"
   },
   "source": [
    "and download first a few files containing structural data that we have prepared in advance for you: "
   ]
  },
  {
   "cell_type": "code",
   "execution_count": null,
   "metadata": {},
   "outputs": [],
   "source": [
    "!wget  https://raw.githubusercontent.com/GrupEstructuraElectronicaSimetria/cosymlib/pere_tutorial/docs/tutorials/sqplanar.xyz\n",
    "!wget  https://raw.githubusercontent.com/GrupEstructuraElectronicaSimetria/cosymlib/pere_tutorial/docs/tutorials/cent_sqplanar.xyz\n",
    "!wget  https://raw.githubusercontent.com/GrupEstructuraElectronicaSimetria/cosymlib/pere_tutorial/docs/tutorials/crn6.xyz \n",
    "!wget  https://raw.githubusercontent.com/GrupEstructuraElectronicaSimetria/cosymlib/pere_tutorial/docs/tutorials/S_coord_9.xyz     \n",
    "    "
   ]
  },
  {
   "cell_type": "markdown",
   "metadata": {
    "id": "vs48BtdcVvNP"
   },
   "source": [
    "# Using shape to compute continuous shape measures\n",
    "\n",
    "\n",
    "`shape` is the script used to calculate continuous shape measures (CShMs) for geometrical objects described as a set of vertices. In this case, we don't compare a given structure with its images obtained after applying a geometrical transformation (proper or improper rotations), but with a reference shape, that is, an ideal polyhedron. In shape we distinguish between centered and non centered polyhedra, depending on if we have a central atom or not in our structure. You can use shape to calculate CShM measures with respect to predefined shapes just by indicating a label, for instance T-4 for the tetrahedron, or with respect to a custom reference structure. In the latter case you must provide a file with the coordinates of your reference structure. \n",
    "\n",
    "Let's start calculating CShMs for some simple cases to see the most relevant features of the `shape`command. To start, let's take a look at the `sqplanar.xyz`and `cent_sqplanar` files:"
   ]
  },
  {
   "cell_type": "code",
   "execution_count": null,
   "metadata": {},
   "outputs": [],
   "source": [
    "!cat sqplanar.xyz\n",
    "!cat cent_sqplanar.xyz"
   ]
  },
  {
   "cell_type": "markdown",
   "metadata": {},
   "source": [
    "As you can see, we have a simple H4 square in the first one and a centered CH4 square, with a C atom in the center, in the second one. \n",
    "Let's start with the `sqplanar.xyz`structure. To calculate shape measures we will have to use the `shape -m LAB` command with a label for the reference structure that we want to use in our calculations. If we don't know the labels for the structures that are available for our case we may use the `-l` tag to get this information. You can find the complete list of predefined structures with their corresponding labels in the documentation for the cosymlib (https://cosymlib.readthedocs.io/en/latest/usage.html#shape-references)."
   ]
  },
  {
   "cell_type": "code",
   "execution_count": null,
   "metadata": {},
   "outputs": [],
   "source": [
    "!shape sqplanar.xyz -l"
   ]
  },
  {
   "cell_type": "markdown",
   "metadata": {},
   "source": [
    "To compute a given CShM we should use the `-m LAB` tag in `shape`, for instance to calculate the CShM for the square as the reference:"
   ]
  },
  {
   "cell_type": "code",
   "execution_count": null,
   "metadata": {},
   "outputs": [],
   "source": [
    "!shape sqplanar.xyz -m SP-4 "
   ]
  },
  {
   "cell_type": "markdown",
   "metadata": {},
   "source": [
    "The result, S(SP-4) = 0.000 just tells us, as expected, that the shape of our square is indeed a square. If we compute the measures for the other reference shapes P we will get CShM values 0 < S(P) < 100. The larger the value of S(P) the more different is our problem structure from the reference shape. "
   ]
  },
  {
   "cell_type": "code",
   "execution_count": null,
   "metadata": {},
   "outputs": [],
   "source": [
    "!shape sqplanar.xyz -m T-4\n",
    "!shape sqplanar.xyz -mvTBPY-4"
   ]
  },
  {
   "cell_type": "markdown",
   "metadata": {},
   "source": [
    "The calculations indicate that the square is quit far away from the tetrahedron, S(Td) = 33.333, but the axially vacant trigonal bipyramid is a little bit more far away, S(vTBPY-4).\n",
    "\n",
    "Let's try now to compute the square planar CShM for the centered structure in `cent_sqplanar.xyz`:"
   ]
  },
  {
   "cell_type": "code",
   "execution_count": null,
   "metadata": {},
   "outputs": [],
   "source": [
    "!shape cent_sqplanar.xyz -m SP-4"
   ]
  },
  {
   "cell_type": "markdown",
   "metadata": {},
   "source": [
    "As you see, we get an error. If you concentrate only on the last line of the message you read: *Exception: Reference and input structures have different number of atoms* meaning that we are compare our CH4 structure with 5 atoms with a reference polyhedron, the tertahedron, which is has only 4 atoms. If we look at the reference structures available for the `cent_sqplanar.xyz`file using the `-l` tag you will see that the tetrahedron is not an option, we get only reference structures with 5 vertices:"
   ]
  },
  {
   "cell_type": "code",
   "execution_count": null,
   "metadata": {},
   "outputs": [],
   "source": [
    "!shape cent_sqplanar.xyz -l"
   ]
  },
  {
   "cell_type": "markdown",
   "metadata": {},
   "source": [
    "If we want to compute shape measures for a centered tetrahedron we need to indicate that we have a central atom and give also its position (the first atom in our example) using the `-c 1`tag. Adding this to our last command we will get the available structures for centered polyhedra with 5 vertices, one central vertex + 4 additional ones, and here we see that we have the T-4 option: "
   ]
  },
  {
   "cell_type": "code",
   "execution_count": null,
   "metadata": {},
   "outputs": [],
   "source": [
    "!shape cent_sqplanar.xyz -c 1 -l"
   ]
  },
  {
   "cell_type": "markdown",
   "metadata": {},
   "source": [
    "To get the T-4 CShM for the centered tetrahedron we just type: "
   ]
  },
  {
   "cell_type": "code",
   "execution_count": null,
   "metadata": {},
   "outputs": [],
   "source": [
    "!shape cent_sqplanar.xyz -c 1 -m T-4"
   ]
  },
  {
   "cell_type": "markdown",
   "metadata": {},
   "source": [
    "Be aware that it is crucial to identify the central atom properly. If we consider that the central atom is in position 2 we get a totally different (in this case nonsense) result:"
   ]
  },
  {
   "cell_type": "code",
   "execution_count": null,
   "metadata": {},
   "outputs": [],
   "source": [
    "!shape cent_sqplanar.xyz -c 2 -m T-4"
   ]
  },
  {
   "cell_type": "markdown",
   "metadata": {},
   "source": [
    "As a special option, you can use the `-m` tag in combination with `all` instead of a particular shape reference label to calculate the CShMs with respect to all reference shapes compatible with the provided structure. This feature is especially useful if you want to know which is the closest reference shape for your problem structure."
   ]
  },
  {
   "cell_type": "code",
   "execution_count": null,
   "metadata": {},
   "outputs": [],
   "source": [
    "!shape cent_sqplanar.xyz -c 1 -m all"
   ]
  },
  {
   "cell_type": "markdown",
   "metadata": {},
   "source": [
    "# Shape maps\n",
    "\n",
    "\n",
    "The *Cosymlib* library contains a stand-alone script to compute CShMs for two different reference shapes and plot the results in a shape map. The script computes also the position of a problem structure along the minimum deviation path and the value of the path deviation function. For this purpose we must call the `shape_map` command giving two reference shape labels with the tags `-m_1` and `-m_2`. The labels after `-m_1` and `-m_2` will indicate the CShMs used the x- and the y-axes of the map, respectively.\n",
    "\n",
    "The following calls build an octahedral/trigonal prismatic shape map for the set of ML<sub>6</sub> structures contained in the `crn6.xyz` file. Let's first have a look at the data to see where we have the central atom:"
   ]
  },
  {
   "cell_type": "code",
   "execution_count": null,
   "metadata": {},
   "outputs": [],
   "source": [
    "!cat crn6.xyz"
   ]
  },
  {
   "cell_type": "markdown",
   "metadata": {},
   "source": [
    "Since the Cr atom is in the first position we must call `shape` with the `-c 1`tag. We want to compute the octahedral and trigonal prismatic CShMs. To get the labels we use first `shape` with the `-c 1`and the `-l` tags."
   ]
  },
  {
   "cell_type": "code",
   "execution_count": null,
   "metadata": {},
   "outputs": [],
   "source": [
    "!shape crn6.xyz -c 1 -l "
   ]
  },
  {
   "cell_type": "markdown",
   "metadata": {},
   "source": [
    "Now we can run `shape` with the `-m OC-6` and the `-m TPR-6` tags to get the desired CShMs:"
   ]
  },
  {
   "cell_type": "code",
   "execution_count": null,
   "metadata": {},
   "outputs": [],
   "source": [
    "!shape crn6.xyz -m OC-6 -c 1\n",
    "!shape crn6.xyz -m TPR-6 -c 1"
   ]
  },
  {
   "cell_type": "markdown",
   "metadata": {},
   "source": [
    "We can build the shape map directly using the `shape_map` command indicating the two reference shape labels with the `-m_1` and `-m_2` tags :"
   ]
  },
  {
   "cell_type": "code",
   "execution_count": null,
   "metadata": {},
   "outputs": [],
   "source": [
    "!shape_map crn6.xyz -c 1 -m_1 OC-6 -m_2 TPR-6 "
   ]
  },
  {
   "cell_type": "markdown",
   "metadata": {},
   "source": [
    "We can use also the `shape_map` command to plot directly the shape map with the `-o image` tag. This will generate a `shape_map.png` file which we can visualize afterwards: "
   ]
  },
  {
   "cell_type": "code",
   "execution_count": null,
   "metadata": {},
   "outputs": [],
   "source": [
    "!shape_map crn6.xyz -m_1 OC-6 -m_2 TPR-6 -c 1 -o image\n",
    "\n",
    "from IPython.display import Image\n",
    "Image(filename='shape_map.png')"
   ]
  },
  {
   "cell_type": "markdown",
   "metadata": {},
   "source": [
    "The continuous line appearing in the plot corresponds to the minimal distortion path between the two structures. "
   ]
  },
  {
   "cell_type": "markdown",
   "metadata": {},
   "source": [
    "# A practical example using CShMs and CSMs\n",
    "\n",
    "\n",
    "`shape` Let's do now a practical example of using shape to decide which is the polyhedron that best describes the coordination environment of an atom in a real case. In the `S_coord_9.xyz` file we provide you with the structures of the coordinatton environement for of an europium atom in eight different complexes. Use this information to find which ideal polyhedron is the best description of the coordination environment in each compound and how far is the real geometry from the ideal one in each case. These compounds have their main application as luminiscent materials due to the sharp emission lines originating from f-f transitions on the lanthanide ion. Since f-f transitions are symmetry forbidden in centrosymmetric environements, it's interesting to work with compounds where the coordination environment of Eu is far from having Ci symmetry, a feature that we can check by computing the S(Ci) measure. \n",
    "\n",
    "Remember that you will have to:\n",
    "* look at the geometries to see in which position do we have the central atom (Eu)\n",
    "* call `shape` with the `-l` tag to see which polyhedra are compatible with our structures\n",
    "* call `shape`with the `-m all`tag to calculate all possible CShMs\n",
    "* find out which one is the smallest in each case\n",
    "* plot a shape map for the two reference structures with the smallest CShMs values\n",
    "* call the `gsym` command with the `-m Ci` tag to calculate the S(Ci) measure and check, that indeed, the compounds are far from being centrosymmetric."
   ]
  },
  {
   "cell_type": "code",
   "execution_count": null,
   "metadata": {},
   "outputs": [],
   "source": []
  },
  {
   "cell_type": "code",
   "execution_count": null,
   "metadata": {},
   "outputs": [],
   "source": []
  },
  {
   "cell_type": "code",
   "execution_count": null,
   "metadata": {},
   "outputs": [],
   "source": [
    "\n"
   ]
  },
  {
   "cell_type": "code",
   "execution_count": null,
   "metadata": {},
   "outputs": [],
   "source": []
  },
  {
   "cell_type": "code",
   "execution_count": null,
   "metadata": {},
   "outputs": [],
   "source": []
  },
  {
   "cell_type": "code",
   "execution_count": null,
   "metadata": {},
   "outputs": [],
   "source": []
  }
 ],
 "metadata": {
  "colab": {
   "collapsed_sections": [
    "3syNqZ3-JGlY",
    "-P0umi16VnRM",
    "6WXm8eDiV0T5",
    "JSRRgzeFuk1e",
    "vs48BtdcVvNP",
    "mrvwxmL7LvEH",
    "tcMjTCMHpDre",
    "WCmqPOW73Lry"
   ],
   "provenance": []
  },
  "kernelspec": {
   "display_name": "Python 3 (ipykernel)",
   "language": "python",
   "name": "python3"
  },
  "language_info": {
   "codemirror_mode": {
    "name": "ipython",
    "version": 3
   },
   "file_extension": ".py",
   "mimetype": "text/x-python",
   "name": "python",
   "nbconvert_exporter": "python",
   "pygments_lexer": "ipython3",
   "version": "3.8.0"
  }
 },
 "nbformat": 4,
 "nbformat_minor": 1
}
