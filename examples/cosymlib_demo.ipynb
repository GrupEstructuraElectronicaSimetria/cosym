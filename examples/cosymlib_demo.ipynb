{
 "cells": [
  {
   "cell_type": "markdown",
   "metadata": {},
   "source": [
    "[![Open In Colab](https://colab.research.google.com/assets/colab-badge.svg)](https://colab.research.google.com/github/GrupEstructuraElectronicaSimetria/cosymlib/blob/master/examples/cosymlib_demo.ipynb)"
   ]
  },
  {
   "cell_type": "markdown",
   "metadata": {},
   "source": [
    "Cosymlib Demo\n",
    "-------------"
   ]
  },
  {
   "cell_type": "markdown",
   "metadata": {
    "pycharm": {
     "name": "#%% md\n"
    }
   },
   "source": [
    "1. Install necessary modules"
   ]
  },
  {
   "cell_type": "code",
   "execution_count": null,
   "metadata": {
    "pycharm": {
     "name": "#%%\n"
    }
   },
   "outputs": [],
   "source": [
    "!pip install py3Dmol\n",
    "!pip install pubchempy\n",
    "!pip install cosymlib"
   ]
  },
  {
   "cell_type": "markdown",
   "metadata": {
    "pycharm": {
     "name": "#%% md\n"
    }
   },
   "source": [
    "2. Load helper functions"
   ]
  },
  {
   "cell_type": "code",
   "execution_count": null,
   "metadata": {
    "id": "MJ-mci7YPbsj",
    "pycharm": {
     "name": "#%%\n"
    }
   },
   "outputs": [],
   "source": [
    "def get_geometry_from_pubchem(name):\n",
    "    import pubchempy as pcp\n",
    "    from cosymlib.molecule.geometry import Geometry\n",
    "    c = pcp.get_compounds(name, namespace='name', record_type='3d')[0]\n",
    "\n",
    "    symbols = []\n",
    "    positions = []\n",
    "    for atom in c.atoms:\n",
    "        # print('{:3}  {:8.4f}  {:8.4f}  {:8.4f}'.format(atom.element, atom.x, atom.y, atom.z))\n",
    "        symbols.append(atom.element)\n",
    "        positions.append([atom.x, atom.y, atom.z])\n",
    "\n",
    "    return Geometry(positions=positions, symbols=symbols)\n",
    "\n",
    "def get_xyz_from_geometry(geometry):\n",
    "    xyz_txt = '{}\\n\\n'.format(geometry.get_n_atoms())\n",
    "    for s, c in zip(geometry.get_symbols(), geometry.get_positions()):\n",
    "        xyz_txt += s + ' {} {} {}\\n'.format(*c)\n",
    "    return xyz_txt\n"
   ]
  },
  {
   "cell_type": "markdown",
   "metadata": {
    "pycharm": {
     "name": "#%% md\n"
    }
   },
   "source": [
    "3. Get molecule from PubChem database (https://pubchem.ncbi.nlm.nih.gov/)"
   ]
  },
  {
   "cell_type": "code",
   "execution_count": null,
   "metadata": {
    "pycharm": {
     "name": "#%%\n"
    }
   },
   "outputs": [],
   "source": [
    "geometry = get_geometry_from_pubchem('Benzophenone')"
   ]
  },
  {
   "cell_type": "markdown",
   "metadata": {
    "pycharm": {
     "name": "#%% md\n"
    }
   },
   "source": [
    "4. Show molecule geometry"
   ]
  },
  {
   "cell_type": "code",
   "execution_count": null,
   "metadata": {
    "pycharm": {
     "name": "#%%\n"
    }
   },
   "outputs": [],
   "source": [
    "import py3Dmol\n",
    "\n",
    "xyzview = py3Dmol.view(width=400,height=400)\n",
    "xyzview.addModel(get_xyz_from_geometry(geometry), 'xyz')\n",
    "xyzview.setStyle({'stick':{}})\n",
    "xyzview.setBackgroundColor('0xeeeeee')\n",
    "xyzview.zoomTo()\n",
    "xyzview.show()"
   ]
  },
  {
   "cell_type": "markdown",
   "source": [
    "5. Calculate Continuous Symmetry Measure (CSM)"
   ],
   "metadata": {
    "collapsed": false
   }
  },
  {
   "cell_type": "code",
   "execution_count": null,
   "metadata": {},
   "outputs": [],
   "source": [
    "print('CSM Cs: {:4.2f}'.format(geometry.get_symmetry_measure('Cs')))\n",
    "print('CSM Ci: {:4.2f}'.format(geometry.get_symmetry_measure('Ci')))\n",
    "print('CSM C2: {:4.2f}'.format(geometry.get_symmetry_measure('C2')))\n",
    "print('CSM C3: {:4.2f}'.format(geometry.get_symmetry_measure('C3')))\n",
    "print('CSM C4: {:4.2f}'.format(geometry.get_symmetry_measure('C4')))"
   ]
  }
 ],
 "metadata": {
  "colab": {
   "name": "Untitled5.ipynb",
   "provenance": []
  },
  "kernelspec": {
   "display_name": "Python 3",
   "language": "python",
   "name": "python3"
  },
  "language_info": {
   "codemirror_mode": {
    "name": "ipython",
    "version": 3
   },
   "file_extension": ".py",
   "mimetype": "text/x-python",
   "name": "python",
   "nbconvert_exporter": "python",
   "pygments_lexer": "ipython3",
   "version": "3.9.0"
  }
 },
 "nbformat": 4,
 "nbformat_minor": 1
}